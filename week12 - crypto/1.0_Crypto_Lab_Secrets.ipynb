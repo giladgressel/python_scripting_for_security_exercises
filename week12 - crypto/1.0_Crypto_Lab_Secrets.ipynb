{
 "cells": [
  {
   "cell_type": "markdown",
   "metadata": {},
   "source": [
    "# Secret Module"
   ]
  },
  {
   "cell_type": "markdown",
   "metadata": {},
   "source": [
    "### Random Number Generation"
   ]
  },
  {
   "cell_type": "markdown",
   "metadata": {},
   "source": [
    "The secrets module is used for generating random numbers for managing important data such as passwords, account authentication, security tokens, and related secrets, that are cryptographically strong. This module is responsible for providing access to the most secure source of randomness. \n",
    "\n",
    "## 1. `secrets.choice(sequence)`\n",
    "\n",
    "This function returns a randomly-chosen element from a non-empty sequence to manage a basic level of security. "
   ]
  },
  {
   "cell_type": "code",
   "execution_count": 1,
   "metadata": {},
   "outputs": [],
   "source": [
    "import secrets  \n",
    "import string  "
   ]
  },
  {
   "cell_type": "code",
   "execution_count": 2,
   "metadata": {},
   "outputs": [
    {
     "name": "stdout",
     "output_type": "stream",
     "text": [
      "abcdefghijklmnopqrstuvwxyzABCDEFGHIJKLMNOPQRSTUVWXYZ0123456789\n"
     ]
    }
   ],
   "source": [
    "# here we make a single variable alphabet, that stores all the alphanumeric characters\n",
    "alphabet = string.ascii_letters + string.digits \n",
    "print(alphabet)"
   ]
  },
  {
   "cell_type": "code",
   "execution_count": 7,
   "metadata": {},
   "outputs": [
    {
     "name": "stdout",
     "output_type": "stream",
     "text": [
      "zO3VUpxNSU\n"
     ]
    }
   ],
   "source": [
    "## MAKE A PASSWORD! \n",
    "# you need to provide characters for secrets.choice() to choose from\n",
    "# we provide these characters as a string, here we use the variable alphabet from above\n",
    "# the range decides the length of our password\n",
    "password = ''.join(secrets.choice(alphabet) for i in range (10))  \n",
    "\n",
    "print(password) "
   ]
  },
  {
   "cell_type": "code",
   "execution_count": 14,
   "metadata": {},
   "outputs": [
    {
     "name": "stdout",
     "output_type": "stream",
     "text": [
      "WloHeHWe lHWdllreWeH dWe lodel oodledoloHeHHd WlrolrWlrH rdordlHldHolo droodlrod oe e  Wol leld  dro\n"
     ]
    }
   ],
   "source": [
    "# try changing the choice sequence to anything you like , what happens if you put your name? 'my_name_is_Gilad' what letters will it draw from?\n",
    "# Try changing the range as well, how does that affect the password?\n",
    "\n",
    "string_sequence =  \"Hello World\" #set a string here\n",
    "num = 100  # set a number here\n",
    "password = ''.join(secrets.choice(string_sequence) for i in range (num))  \n",
    "print(password) "
   ]
  },
  {
   "cell_type": "markdown",
   "metadata": {},
   "source": [
    "##  2. `secrets.randbelow(n)` \n",
    "This function returns a random integer in the range [0, n]."
   ]
  },
  {
   "cell_type": "code",
   "execution_count": null,
   "metadata": {},
   "outputs": [],
   "source": [
    "import secrets  "
   ]
  },
  {
   "cell_type": "code",
   "execution_count": null,
   "metadata": {},
   "outputs": [],
   "source": [
    "secure_random_number = secrets.randbelow(100)  \n",
    "\n",
    "# passwd is the secure random integer in the range [0, n]\n",
    "# Here n is the exclusive upper bound. \n",
    "# 0 is the starting number in the range, and n is the last number.\n",
    "\n",
    "print(secure_random_number)"
   ]
  },
  {
   "cell_type": "code",
   "execution_count": null,
   "metadata": {},
   "outputs": [],
   "source": [
    "# try changing the range to anything you like,\n",
    "\n",
    "randnum = # set a number here\n",
    "your_super_secure_random_number = secrets.randbelow(randnum)\n",
    "print(your_super_secure_random_number)"
   ]
  },
  {
   "cell_type": "markdown",
   "metadata": {},
   "source": [
    "## 3. `secrets.randbits(k)` \n",
    "This function returns an int with k random bits.\n",
    "This is useful if your algorithms use bits in their equations"
   ]
  },
  {
   "cell_type": "code",
   "execution_count": null,
   "metadata": {},
   "outputs": [],
   "source": [
    "import secrets  "
   ]
  },
  {
   "cell_type": "code",
   "execution_count": null,
   "metadata": {},
   "outputs": [],
   "source": [
    "# you need to provide the bit count in randbits()\n",
    "\n",
    "bit_generated_number = secrets.randbits(70)  \n",
    "\n",
    "# passwd is the integer with k random bit\n",
    "print(bit_generated_number) "
   ]
  },
  {
   "cell_type": "code",
   "execution_count": null,
   "metadata": {},
   "outputs": [],
   "source": [
    "# try changing the bits to anything you like,\n",
    "\n",
    "randbit = # set a number here\n",
    "bit_generated_number = secrets.randbits(randbit)  \n",
    "\n",
    "print(bit_generated_number) "
   ]
  },
  {
   "cell_type": "markdown",
   "metadata": {},
   "source": [
    "## Generating tokens\n",
    "The secrets module provides functions for generating secure tokens, suitable for applications such as password resets, hard-to-guess URLs, and similar. "
   ]
  },
  {
   "cell_type": "markdown",
   "metadata": {},
   "source": [
    "## 1. `secrets.token_bytes([nbytes=None])` \n",
    "\n",
    "Return a random byte string containing nbytes number of bytes. If nbytes is None or not supplied, it defaults to 32"
   ]
  },
  {
   "cell_type": "code",
   "execution_count": null,
   "metadata": {},
   "outputs": [],
   "source": [
    "import secrets"
   ]
  },
  {
   "cell_type": "code",
   "execution_count": null,
   "metadata": {},
   "outputs": [],
   "source": [
    "# You have to choose a number as number of bytes\n",
    "# Argument is optional. If nbytes is None or not supplied, the default entropy is 32 bytes\n",
    "\n",
    "token1 = secrets.token_bytes() \n",
    "token2 = secrets.token_bytes(10)\n",
    "\n",
    "print (\"Token 1: \", token1)\n",
    "print (\"Token 2: \", token2)"
   ]
  },
  {
   "cell_type": "code",
   "execution_count": null,
   "metadata": {},
   "outputs": [],
   "source": [
    "# try changing the number of bytes to anything you like or can kept it as None\n",
    "\n",
    "numbytes = # set a number here\n",
    "\n",
    "token1 = secrets.token_bytes() \n",
    "token2 = secrets.token_bytes(numbytes)\n",
    "\n",
    "print (\"Token 1: \", token1)\n",
    "print (\"Token 2: \", token2)"
   ]
  },
  {
   "cell_type": "markdown",
   "metadata": {},
   "source": [
    "## 2. `secrets.token_hex([nbytes=None])` \n",
    "Return a random text string, in hexadecimal. The string has nbytes random bytes, each byte converted to two hex digits."
   ]
  },
  {
   "cell_type": "code",
   "execution_count": null,
   "metadata": {},
   "outputs": [],
   "source": [
    "import secrets"
   ]
  },
  {
   "cell_type": "code",
   "execution_count": null,
   "metadata": {},
   "outputs": [],
   "source": [
    "# You have to choose a number as number of bytes\n",
    "# The returned string has nbytes random bytes, each byte converted to two hex digits.\n",
    "# Argument is optional. If nbytes is None or not supplied, a reasonable default is used.\n",
    "\n",
    "token1 = secrets.token_hex(16) \n",
    "token2 = secrets.token_hex() \n",
    "\n",
    "print (\"Generate a secure hexadecimal token 1: \", token1)\n",
    "print (\"Generate a secure hexadecimal token 2: \", token2)"
   ]
  },
  {
   "cell_type": "code",
   "execution_count": null,
   "metadata": {},
   "outputs": [],
   "source": [
    "# try changing the number of bytes to anything you like or can kept it as None\n",
    "\n",
    "numbytes = # set a number here\n",
    "\n",
    "token1 = secrets.token_hex(numbytes) \n",
    "token2 = secrets.token_hex() \n",
    "\n",
    "print (\"Generate a secure hexadecimal token 1: \", token1)\n",
    "print (\"Generate a secure hexadecimal token 2: \", token2)"
   ]
  },
  {
   "cell_type": "markdown",
   "metadata": {},
   "source": [
    "## 3. `secrets.token_urlsafe([nbytes=None])`\n",
    "\n",
    "Return a random URL-safe text string, containing nbytes random bytes.\n",
    "This is suitable for password recovery applications."
   ]
  },
  {
   "cell_type": "code",
   "execution_count": null,
   "metadata": {},
   "outputs": [],
   "source": [
    "import secrets"
   ]
  },
  {
   "cell_type": "code",
   "execution_count": null,
   "metadata": {},
   "outputs": [],
   "source": [
    "# You have to choose a number as number of bytes\n",
    "# Argument is optional. If nbytes is None or not supplied, a reasonable default is used.\n",
    "\n",
    "url1 = 'https://mydomain.com/reset=' + secrets.token_urlsafe(16)\n",
    "url2 = 'https://mydomain.com/reset=' + secrets.token_urlsafe()\n",
    "\n",
    "print (url1)\n",
    "print (url2)"
   ]
  },
  {
   "cell_type": "code",
   "execution_count": null,
   "metadata": {},
   "outputs": [],
   "source": [
    "# try changing the number of bytes to anything you like or can kept it as None\n",
    "\n",
    "url1 = 'https://mydomain.com/reset=' + secrets.token_urlsafe(16)\n",
    "url2 = 'https://mydomain.com/reset=' + secrets.token_urlsafe()\n",
    "\n",
    "print (url1)\n",
    "print (url2)"
   ]
  }
 ],
 "metadata": {
  "kernelspec": {
   "display_name": "base",
   "language": "python",
   "name": "python3"
  },
  "language_info": {
   "codemirror_mode": {
    "name": "ipython",
    "version": 3
   },
   "file_extension": ".py",
   "mimetype": "text/x-python",
   "name": "python",
   "nbconvert_exporter": "python",
   "pygments_lexer": "ipython3",
   "version": "3.12.2"
  }
 },
 "nbformat": 4,
 "nbformat_minor": 4
}
